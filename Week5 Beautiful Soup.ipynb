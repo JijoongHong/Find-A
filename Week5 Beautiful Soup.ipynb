{
 "cells": [
  {
   "cell_type": "code",
   "execution_count": 21,
   "metadata": {},
   "outputs": [
    {
     "name": "stdout",
     "output_type": "stream",
     "text": [
      "<?xml version=\"1.0\"?><html><body><books>\n",
      "<book>\n",
      "<author>Carson</author>\n",
      "<price format=\"dollar\">31.95</price>\n",
      "<pubdate>05/01/2001</pubdate>\n",
      "</book>\n",
      "<pubinfo>\n",
      "<publisher>MSPress</publisher>\n",
      "<state>WA</state>\n",
      "</pubinfo>\n",
      "<book>\n",
      "<author>Sungchul</author>\n",
      "<price format=\"dollar\">29.95</price>\n",
      "<pubdate>05/01/2012</pubdate>\n",
      "</book>\n",
      "<pubinfo>\n",
      "<publisher>Gachon</publisher>\n",
      "<state>SeoungNam</state>\n",
      "</pubinfo>\n",
      "</books></body></html>\n",
      "<author>Carson</author>\n",
      "Carson\n",
      "<author>Sungchul</author>\n",
      "Sungchul\n"
     ]
    }
   ],
   "source": [
    "from bs4 import BeautifulSoup as bs\n",
    "\n",
    "#파일을 string으로 읽어 오기\n",
    "with open(\"/Users/jijoonghong/Downloads/books.xml\", \"r\", encoding = \"utf-8\") as books_file :\n",
    "    books_xml = books_file.read()\n",
    "\n",
    "#lxml Parser를 사용해 데이터 분석    \n",
    "soup = bs(books_xml, \"lxml\")\n",
    "\n",
    "print(soup)\n",
    "\n",
    "\n",
    "#author가 들어간 모든 element 추출\n",
    "for book_info in soup.find_all(\"author\"):\n",
    "    print(book_info)\n",
    "    print(book_info.get_text())\n"
   ]
  },
  {
   "cell_type": "code",
   "execution_count": 27,
   "metadata": {},
   "outputs": [
    {
     "name": "stdout",
     "output_type": "stream",
     "text": [
      "Adjustable shoulder device for hard upper torso suit\n"
     ]
    }
   ],
   "source": [
    "from bs4 import BeautifulSoup as bs\n",
    "\n",
    "with open(\"/Users/jijoonghong/Downloads/US08621662.xml\", \"r\", encoding = \"utf-8\") as patent_xml :\n",
    "    xml = patent_xml.read()\n",
    "    \n",
    "soup = bs(xml, \"lxml\")\n",
    "\n",
    "invention_title_tag = soup.find(\"invention-title\")\n",
    "print(invention_title_tag.get_text())\n"
   ]
  },
  {
   "cell_type": "code",
   "execution_count": 28,
   "metadata": {},
   "outputs": [
    {
     "name": "stdout",
     "output_type": "stream",
     "text": [
      "Adjustable shoulder device for hard upper torso suit\n",
      "08621662 B2 20140107\n",
      "US 13175987 20110705\n"
     ]
    }
   ],
   "source": [
    "from bs4 import BeautifulSoup as bs\n",
    "\n",
    "with open(\"/Users/jijoonghong/Downloads/US08621662.xml\", \"r\", encoding = \"utf-8\") as patent_xml :\n",
    "    xml = patent_xml.read()\n",
    "    \n",
    "soup = bs(xml, \"lxml\")\n",
    "\n",
    "#특허명\n",
    "invention_title_tag = soup.find(\"invention-title\")\n",
    "print(invention_title_tag.get_text())\n",
    "\n",
    "\n",
    "#등록번호, 등록상태, 등록일\n",
    "p_reference_tag = soup.find(\"publication-reference\")\n",
    "p_document_id_tag = p_reference_tag.find(\"document-id\")\n",
    "p_country = p_document_id_tag.find(\"country\").get_text()\n",
    "p_doc_num = p_document_id_tag.find(\"doc-number\").get_text()\n",
    "p_kind = p_document_id_tag.find(\"kind\").get_text()\n",
    "p_date = p_document_id_tag.find(\"date\").get_text()\n",
    "print(p_doc_num, p_kind, p_date)\n",
    "\n",
    "#출원국, 출원번호, 출원일\n",
    "a_reference_tag = soup.find(\"application-reference\")\n",
    "a_document_id_tag = a_reference_tag.find(\"document-id\")\n",
    "a_country = a_document_id_tag.find(\"country\").get_text()\n",
    "a_doc_num = a_document_id_tag.find(\"doc-number\").get_text()\n",
    "a_date = a_document_id_tag.find(\"date\").get_text()\n",
    "print(a_country, a_doc_num, a_date)"
   ]
  },
  {
   "cell_type": "code",
   "execution_count": 77,
   "metadata": {},
   "outputs": [],
   "source": [
    "from bs4 import BeautifulSoup as bs\n",
    "import csv\n",
    "\n",
    "with open(\"/Users/jijoonghong/Downloads/ipa110106.XML\", \"r\", encoding = \"utf-8\") as patent_xml :\n",
    "    xml = patent_xml.read()\n",
    "    \n",
    "xmls = xml.split('<?xml version=\"1.0\" encoding=\"UTF-8\"?>')\n",
    "xmls = xmls[1:]\n",
    "\n",
    "with open(\"/Users/jijoonghong/Downloads/result.csv\", \"w\", encoding = \"utf-8\") as f :\n",
    "    f.write(\"특허제목, 등록번호, 등록일자, 상태, 출원 번호, 출원일 \\n\")\n",
    "\n",
    "\n",
    "\n",
    "    for x in xmls :\n",
    "        soup = bs(x, \"lxml\")\n",
    "        \n",
    "        invention_title_tag = soup.find(\"invention-title\").get_text()\n",
    "        \n",
    "        p_reference_tag = soup.find(\"publication-reference\")\n",
    "        p_document_id_tag = p_reference_tag.find(\"document-id\")\n",
    "        p_doc_num = p_document_id_tag.find(\"doc-number\").get_text()\n",
    "        p_date = p_document_id_tag.find(\"date\").get_text()\n",
    "        p_kind = p_document_id_tag.find(\"kind\").get_text()\n",
    "\n",
    "        a_reference_tag = soup.find(\"application-reference\")\n",
    "        a_document_id_tag = a_reference_tag.find(\"document-id\")\n",
    "        a_doc_num = a_document_id_tag.find(\"doc-number\").get_text()\n",
    "        a_date = a_document_id_tag.find(\"date\").get_text()\n",
    "        \n",
    "        \n",
    "        result = csv.writer(f)\n",
    "        l = [invention_title_tag, p_doc_num, p_date, p_kind, a_doc_num, a_date]\n",
    "        result.writerow(l)\n",
    "\n",
    "    \n",
    "    \n",
    "    \n",
    "\n"
   ]
  },
  {
   "cell_type": "code",
   "execution_count": 65,
   "metadata": {},
   "outputs": [
    {
     "name": "stdout",
     "output_type": "stream",
     "text": [
      "['', '1', '2', '3', '4', '6']\n"
     ]
    }
   ],
   "source": [
    "l = \"a1a2a3a4a6\"\n",
    "l = l.split(\"a\")\n",
    "print(l)"
   ]
  },
  {
   "cell_type": "code",
   "execution_count": null,
   "metadata": {},
   "outputs": [],
   "source": []
  }
 ],
 "metadata": {
  "kernelspec": {
   "display_name": "Python 3",
   "language": "python",
   "name": "python3"
  },
  "language_info": {
   "codemirror_mode": {
    "name": "ipython",
    "version": 3
   },
   "file_extension": ".py",
   "mimetype": "text/x-python",
   "name": "python",
   "nbconvert_exporter": "python",
   "pygments_lexer": "ipython3",
   "version": "3.7.6"
  }
 },
 "nbformat": 4,
 "nbformat_minor": 4
}
