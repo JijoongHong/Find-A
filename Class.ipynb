{
 "cells": [
  {
   "cell_type": "code",
   "execution_count": 1,
   "metadata": {},
   "outputs": [
    {
     "name": "stdout",
     "output_type": "stream",
     "text": [
      "A\n",
      "A\n"
     ]
    }
   ],
   "source": [
    "class SoccerPlayer(object):\n",
    "    def __init__(self, name, position, back_number):\n",
    "        self.name = name\n",
    "        self.position = position\n",
    "        self.back_number = back_number\n",
    "        \n",
    "        \n",
    "#데이터\n",
    "names = [\"A\", \"B\", \"C\", \"D\", \"E\"]\n",
    "positions = ['MF', 'DF', 'CF', 'WF', 'GK']\n",
    "numbers = [10, 15, 12, 1, 3]\n",
    "\n",
    "#2차원 배열\n",
    "players = [[name, position, number] for name, position, number in zip(names, positions, numbers)]\n",
    "print(players[0][0])\n",
    "\n",
    "#class\n",
    "player_objects = [SoccerPlayer(name, position, number) for name, position, number in zip(names, positions, numbers)]\n",
    "print(player_objects[0].name)\n"
   ]
  },
  {
   "cell_type": "code",
   "execution_count": 2,
   "metadata": {},
   "outputs": [
    {
     "name": "stdout",
     "output_type": "stream",
     "text": [
      "<__main__.SoccerPlayer object at 0x7fa5bf0ba890>\n",
      "현재 선수의 등번호는 : 10\n",
      "선수의 등번호를 변경합니다 : From 10 to 5\n",
      "현재 선수의 등번호는 : 5\n"
     ]
    }
   ],
   "source": [
    "\n",
    "#클래스 선언\n",
    "class SoccerPlayer:\n",
    "    def __init__(self, name, position, back_number):\n",
    "        self.name = name\n",
    "        self.position = position\n",
    "        self.back_number = back_number\n",
    "\n",
    "    def change_back_number(self, new_number):\n",
    "        print(\"선수의 등번호를 변경합니다 : From %d to %d\" % (self.back_number, new_number))\n",
    "        self.back_number = new_number\n",
    "\n",
    "    #def __str__(self):\n",
    "    #    return \"Hello, My name is %s. I play in %s in center\" % (self.name, self.position)\n",
    "\n",
    "#객체생성\n",
    "jinhyun = SoccerPlayer(\"jinhyun\", \"MF\", 10)\n",
    "print(jinhyun)\n",
    "\n",
    "#>>> Hello, My name is jinhyun. I play in MF in center\n",
    "\n",
    "#활용\n",
    "print(\"현재 선수의 등번호는 :\", jinhyun.back_number)\n",
    "#>>> 현재 선수의 등번호는 : 10\n",
    "\n",
    "jinhyun.change_back_number(5)\n",
    "#>>> 선수의 등번호를 변경합니다 : From 10 to 5\n",
    "\n",
    "print(\"현재 선수의 등번호는 :\", jinhyun.back_number)\n",
    "#>>>현재 선수의 등번호는 : 5"
   ]
  },
  {
   "cell_type": "code",
   "execution_count": 7,
   "metadata": {},
   "outputs": [
    {
     "name": "stdout",
     "output_type": "stream",
     "text": [
      "16\n",
      "<bound method FourCal.add of <__main__.more object at 0x7fa5bf163c10>>\n"
     ]
    }
   ],
   "source": [
    "class FourCal:\n",
    "    def __init__(self, first, second):\n",
    "        self.first = first\n",
    "        self.second = second\n",
    "        \n",
    "    def add(self):\n",
    "        result = self.first + self.second\n",
    "        return result \n",
    "    \n",
    "class more(FourCal):\n",
    "    def pow(self):\n",
    "        result = self.first ** self.second\n",
    "        return result\n",
    "\n",
    "\n",
    "a = more(4,2)\n",
    "print(a.pow())\n",
    "print(a.add)"
   ]
  },
  {
   "cell_type": "code",
   "execution_count": null,
   "metadata": {},
   "outputs": [],
   "source": []
  }
 ],
 "metadata": {
  "kernelspec": {
   "display_name": "Python 3",
   "language": "python",
   "name": "python3"
  },
  "language_info": {
   "codemirror_mode": {
    "name": "ipython",
    "version": 3
   },
   "file_extension": ".py",
   "mimetype": "text/x-python",
   "name": "python",
   "nbconvert_exporter": "python",
   "pygments_lexer": "ipython3",
   "version": "3.7.6"
  }
 },
 "nbformat": 4,
 "nbformat_minor": 5
}
