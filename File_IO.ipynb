{
 "cells": [
  {
   "cell_type": "code",
   "execution_count": 1,
   "metadata": {},
   "outputs": [
    {
     "name": "stdout",
     "output_type": "stream",
     "text": [
      "파일을 불러왔습니다.\n",
      "내용을 입력하세요: 안녕하세요\n",
      "2021-03-06\n",
      "안녕하세요\n"
     ]
    }
   ],
   "source": [
    "from datetime import datetime\n",
    "\n",
    "def opening():\n",
    "    try :\n",
    "        file = open(\"/Users/jijoonghong/Desktop/aa.txt\", 'a', encoding=\"utf-8\")\n",
    "            \n",
    "    except FileNotFoundError:\n",
    "        print(\"파일이 없습니다. 파일을 새로 생성합니다.\")\n",
    "        with open(\"/Users/jijoonghong/Desktop/aa.txt\", 'w', encoding=\"utf-8\") as file:\n",
    "            file.write(\"\")\n",
    "            \n",
    "        opening()\n",
    "\n",
    "    else :\n",
    "        print(\"파일을 불러왔습니다.\")\n",
    "        return file\n",
    "   \n",
    "        \n",
    "def write(content):\n",
    "    lines = input(\"내용을 입력하세요: \")\n",
    "    today = datetime.today(). strftime('%Y-%m-%d') \n",
    "    content.write(today)\n",
    "    content.write(\"\\n\")\n",
    "    content.write(lines)\n",
    "    content.close()\n",
    "    \n",
    "def main():\n",
    "    content = opening()\n",
    "    write(content)\n",
    "    \n",
    "    \n",
    "main()\n",
    "with open(\"/Users/jijoonghong/Desktop/aa.txt\", 'r', encoding=\"utf-8\") as file:\n",
    "    lines = file.read()\n",
    "    print(lines)"
   ]
  },
  {
   "cell_type": "code",
   "execution_count": null,
   "metadata": {},
   "outputs": [],
   "source": []
  }
 ],
 "metadata": {
  "kernelspec": {
   "display_name": "Find-A",
   "language": "python",
   "name": "finda"
  },
  "language_info": {
   "codemirror_mode": {
    "name": "ipython",
    "version": 3
   },
   "file_extension": ".py",
   "mimetype": "text/x-python",
   "name": "python",
   "nbconvert_exporter": "python",
   "pygments_lexer": "ipython3",
   "version": "3.9.1"
  }
 },
 "nbformat": 4,
 "nbformat_minor": 4
}
