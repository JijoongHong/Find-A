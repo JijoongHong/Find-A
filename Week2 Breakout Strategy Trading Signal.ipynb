{
 "cells": [
  {
   "cell_type": "markdown",
   "metadata": {},
   "source": [
    "# FIND-A 3주차 퀴즈 및 K-MOOC"
   ]
  },
  {
   "cell_type": "markdown",
   "metadata": {},
   "source": [
    "## 문제1\n",
    "\n",
    "알파벳으로 이루어진 문자열이 주어졌을 때, 해당 문자열에서 가장 많이 사용된 알파벳이 무엇인지 출력하기\n",
    " - 대소문자 구별 없음\n",
    " - 동률이 존재하는 경우 알파벳 순으로 제일 앞에 있는 문자 출력\n",
    "\n",
    "예시) \"This is a sample Program we provided.\" => a"
   ]
  },
  {
   "cell_type": "code",
   "execution_count": 116,
   "metadata": {},
   "outputs": [
    {
     "name": "stdout",
     "output_type": "stream",
     "text": [
      "[('i', 3), ('s', 3), ('a', 3), ('p', 3), ('e', 3), ('r', 3), ('m', 2), ('o', 2), ('d', 2), ('t', 1), ('h', 1), ('l', 1), ('g', 1), ('w', 1), ('v', 1)]\n",
      "\n",
      "\n",
      "[('a', 3), ('d', 2), ('e', 3), ('g', 1), ('h', 1), ('i', 3), ('l', 1), ('m', 2), ('o', 2), ('p', 3), ('r', 3), ('s', 3), ('t', 1), ('v', 1), ('w', 1)]\n",
      "\n",
      "\n",
      "a\n"
     ]
    }
   ],
   "source": [
    "from collections import Counter\n",
    "\n",
    "sentence = \"This is a sample Program we provided.\"\n",
    "\n",
    "sentence = sentence.lower()\n",
    "sentence = sentence.replace(\" \", \"\")\n",
    "sentence = sentence.replace(\".\", \"\")\n",
    "\n",
    "counter = Counter(sentence).most_common()\n",
    "print(counter)\n",
    "print(\"\\n\")\n",
    "\n",
    "counter.sort()\n",
    "print(counter)\n",
    "print(\"\\n\")\n",
    "\n",
    "print(counter[0][0])\n",
    "\n",
    "\n"
   ]
  },
  {
   "cell_type": "code",
   "execution_count": null,
   "metadata": {},
   "outputs": [],
   "source": [
    "#set 활용하기\n",
    "\n",
    "ex = \"This is a sample Program we provide\"\n",
    "\n",
    "ex = ex.lower().replace(' ','')\n",
    "\n",
    "set_ = sorted(set(ex))  \n",
    "\n",
    "max_count = 0\n",
    "\n",
    "for i in set_:\n",
    "    if ex.count(i) > max_count:\n",
    "        max_count = ex.count(i)\n",
    "        max_str = i\n",
    "        \n",
    "print(max_str)\n"
   ]
  },
  {
   "cell_type": "markdown",
   "metadata": {},
   "source": [
    "## 문제2\n",
    "\n",
    "- 강화학습(Reinforcement Learning)에서 agent는 그리드를 한칸한칸 돌아다니면서 최적의 길을 학습합니다.\n",
    "- 사각형 칸 각각을 상태(State)라고 부릅니다.\n",
    "- 이 경우엔 총 25개의 상태가 존재합니다. 이를 [행,열]로 표현했습니다. [0,0],[0,1], [0,2],[0,3],,,,,,,,,,[4,3],[4,4]\n",
    "- action은 agent의 행동이며 이 경우엔 모든 state에서 상, 하, 좌, 우 4가지 action들 중 하나를  할 수 있습니다.\n",
    "- 이제 특정한 현재 state에서 어떤 action을 한 후의 새로운 state를 돌려주는 'state_after_action' 함수와 모든 state들을 리스트로 돌려주는 'get_all_states'함수를 class를 이용해 만들어 봅시다.\n",
    "\n",
    "**#state_after_action(state, action_index) 함수** \n",
    "\n",
    "- state_after_action은 state(리스트) 와 action_index를 변수로 입력하면 새로운 state(리스트)를 돌려주는 함수입니다.\n",
    "- action_index = 0,1,2,3 중 하나 입니다.  각각  0:상, 1:하 ,2:좌 ,3:우\n",
    "- 예를 들어 [2,1] state에서 '상' action을 취하면 [1,1] state를 돌려주고, '하' action을 취하면 [3,1] state를 돌려줘야 합니다.\n",
    "- 여기서 주의할 점은 어떤 action을 했는데 벽에 부딪치면 다시 원위치로 돌아오기 때문에 기존의 state를 유지해야 합니다.\n",
    "- 예를 들어 [0,0] state에서 '상' 혹은 '좌' action을 취하면 [0,0] state를 돌려줘야 하고, [1,4]state에서 '우' action을 취하면 [1,4]를 돌려줘야 합니다.\n",
    "\n",
    "**#get_all_state() 함수**\n",
    "\n",
    "- get_all_states 는 모든 state들을 리스트로 돌려주는 함수입니다. [ [0,0],[0,1],[0,2],,,,,,,,,,[4,4] ] (리스트 안에 리스트)"
   ]
  },
  {
   "cell_type": "code",
   "execution_count": 129,
   "metadata": {},
   "outputs": [
    {
     "name": "stdout",
     "output_type": "stream",
     "text": [
      "[[0, 0], [0, 1], [0, 2], [0, 3], [0, 4], [1, 0], [1, 1], [1, 2], [1, 3], [1, 4], [2, 0], [2, 1], [2, 2], [2, 3], [2, 4], [3, 0], [3, 1], [3, 2], [3, 3], [3, 4], [4, 0], [4, 1], [4, 2], [4, 3], [4, 4]]\n",
      "[1, 4]\n"
     ]
    }
   ],
   "source": [
    "HEIGHT = 5  # 그리드 세로\n",
    "WIDTH = 5  # 그리드 가로\n",
    "POSSIBLE_ACTIONS = [0, 1, 2, 3]  # 상,하,좌,우\n",
    "ACTIONS = [(-1, 0), (1, 0), (0, -1), (0, 1)]  # 좌표로 나타낸 행동: 각각 상, 하, 좌, 우 의미\n",
    "\n",
    "class RL:\n",
    "    def __init__(self):\n",
    "\n",
    "        # list comprehension 이용 \n",
    "        self.all_state = [[i, j] for i in range(HEIGHT) for j in range(WIDTH)]\n",
    "\n",
    "\n",
    "    def state_after_action(self, state, action_index):  \n",
    "        \n",
    "        # action_index는 0,1,2,3 (상,하,좌,우) 중 하나\n",
    "        action = list(ACTIONS[action_index])\n",
    "        \n",
    "        if (state[0] == 0 and action_index == 0) or (state[1] == HEIGHT-1 and action_index == 3) or (state[0] == WIDTH-1 and action_index == 1) or (state[1] == 0 and action_index == 2) :\n",
    "            new_state = state\n",
    "            \n",
    "        else : new_state = [i + j for i, j in zip(state, action)]\n",
    "        \n",
    "        return new_state\n",
    "\n",
    "    def get_all_states(self):\n",
    "        return self.all_state\n",
    "    \n",
    "a = RL(HEIGHT, WIDTH)\n",
    "\n",
    "print(a.get_all_states())\n",
    "print(a.state_after_action([1,4],3))\n"
   ]
  },
  {
   "cell_type": "markdown",
   "metadata": {},
   "source": [
    "## 문제3\n",
    "\n",
    "### Breakout strategy Trading signal 만들기\n",
    "\n",
    "- Breakout strategy: 주가가 저항선이나 지지선 밖으로 움직였을 때 trading하는 전략,\n",
    "- 삼성전자 주가 데이터를 가져와서 Breakout strategy에 맞게 long, short 시그널을 만들어 봅시다.\n",
    "\n",
    "### 3-1\n",
    "\n",
    "lookback_high 또는 lookback_low와 길이가 같고 0으로 이루어진 리스트 signal을 생성하세요.\n",
    "\n",
    "### 3-2\n",
    "\n",
    "enumerate와 zip을 이용하여 아래 규칙에 맞게 signal 데이터를 바꾸세요.\n",
    "\n",
    "- lookback_high < close : signal = 1\n",
    "- lookback_low > close: signal = -1\n",
    "- else: signal = 0"
   ]
  },
  {
   "cell_type": "code",
   "execution_count": 130,
   "metadata": {},
   "outputs": [
    {
     "name": "stdout",
     "output_type": "stream",
     "text": [
      "[0, 0, 0, 0, 0, 0, 0, 0, 0, 0, 0, 0, 0, 0, 0, 0, 0, 0, 0, 0, 0, 0, 0, 0, 0, 0, 0, 0, 0, 0, 0, 0, 0, 0, 0, 0, 0, 0, 0, -1, 0, 0, 0, 0, 0, 0, 0, -1, -1, 0, 0, 0, -1, -1, 0, 0, 0, 0, 0, 0, 0, 0, 0, 0, 0, 0, 0, 0, 0, 0, 0, 0, 0, 0, 0, 0, 0, 0, 0, 0, 0, 0, 0, 0, 0, 0, 0, 0, 0, 0, 0, 0, 0, 0, 0, 0, 0, 0, 0, 0, 0, 0, 0, 1, 0, 0, 0, 0, 0, 0, 0, 0, 0, 0, 0, 0, 0, 0, 0, 0, 0, 0, 0, 0, 0, 0, 0, 0, 0, 0, 0, 0, 0, 0, 0, 0, 0, 0, 0, 0, 0, 0, 1, 1, 0, 0, 0, 0, 0, 0, 0, 0, 0, 0, 0, 0, 0, 0, 0, 0, 0, 0, 0, 0, 0, 0, 0, 0, 0, 0, 0, 0, 0, 0, 0, 1, 1, 0, 0, 0, 0, 0, 0, 0, 0, 0, 0, 0, 0, 0, 0, 0, 0, 0, 0, 0, 0, 0, 0, 0, 0, 0, 0, 0, 0, -1, 0, 0, 0, 0, 0, 0, 0, 0, 0, 1, 1, 0, 0, 0, 0, 1, 0, 0, 0, 0, 0, 0, 0, 0, 1, 1, 0, 1, 0, 0, 0, 0, 0, 0, 0, 0, 0, 0, 1, 0, 0, 1]\n"
     ]
    }
   ],
   "source": [
    "\n",
    "import FinanceDataReader as fdr\n",
    "import pandas as pd\n",
    "import numpy as np\n",
    "\n",
    "# 20년 삼성전자 OHLC\n",
    "Samsung_df = fdr.DataReader('005930', '2020-01-01', '2020-12-31')\n",
    "Samsung_df.head()\n",
    "\n",
    "\n",
    "def get_high_lows_lookback(high, low, lookback_days):\n",
    "\n",
    "    lookback_high = high.rolling(window=lookback_days,center=False).max().shift(1)\n",
    "    lookback_low = low.rolling(window=lookback_days,center=False).min().shift(1)\n",
    "    \n",
    "    return lookback_high.tolist(), lookback_low.tolist()\n",
    "\n",
    "\n",
    "lookback_high, lookback_low = get_high_lows_lookback(Samsung_df['High'], Samsung_df['Low'],30)\n",
    "close_list = Samsung_df['Close'].tolist()\n",
    "\n",
    "signal = [0 for i in range(len(lookback_high))]\n",
    "#signal = np.zeros_like(lookback_high)\n",
    "\n",
    "\n",
    "\n",
    "\n",
    "l = zip(lookback_high, lookback_low, close_list)\n",
    "\n",
    "for i, (a, b, c) in enumerate(l):\n",
    "    signal[i] = 1 if a < c else -1 if b > c else 0\n",
    "    \n",
    "'''\n",
    "for i, (a, b, c) in enumerate(l):\n",
    "    if a < c : \n",
    "        signal[i] = 1\n",
    "    elif b > c: \n",
    "        signal[i] = -1\n",
    "    else: \n",
    "        signal[i] = 0\n",
    "'''\n",
    "\n",
    "\n",
    "\n",
    "print(signal)\n",
    "\n",
    "\n",
    "# lookback_high : 최근 30일 동안 High value 중 최댓값을 모아놓은 리스트\n",
    "# lookback_high : 최근 30일 동안 Low value 중 최솟값을 모아놓은 리스트\n",
    "# close_list : close value를 모아놓은 리스트\n",
    "#rolling 이동평균 "
   ]
  },
  {
   "cell_type": "markdown",
   "metadata": {},
   "source": [
    "## 48~49 List Comprehension, Enumerate and Zip"
   ]
  },
  {
   "cell_type": "markdown",
   "metadata": {},
   "source": [
    "### 문제1\n",
    "\n",
    "List Comprehension을 사용하여 1부터 100까지 해당수의 제곱값을 가지는 리스트를 생성해라 ([1, 4, 9, 16, ... , 10000]가 나와야함)"
   ]
  },
  {
   "cell_type": "code",
   "execution_count": 39,
   "metadata": {},
   "outputs": [
    {
     "name": "stdout",
     "output_type": "stream",
     "text": [
      "[1, 4, 9, 16, 25, 36, 49, 64, 81, 100, 121, 144, 169, 196, 225, 256, 289, 324, 361, 400, 441, 484, 529, 576, 625, 676, 729, 784, 841, 900, 961, 1024, 1089, 1156, 1225, 1296, 1369, 1444, 1521, 1600, 1681, 1764, 1849, 1936, 2025, 2116, 2209, 2304, 2401, 2500, 2601, 2704, 2809, 2916, 3025, 3136, 3249, 3364, 3481, 3600, 3721, 3844, 3969, 4096, 4225, 4356, 4489, 4624, 4761, 4900, 5041, 5184, 5329, 5476, 5625, 5776, 5929, 6084, 6241, 6400, 6561, 6724, 6889, 7056, 7225, 7396, 7569, 7744, 7921, 8100, 8281, 8464, 8649, 8836, 9025, 9216, 9409, 9604, 9801, 10000]\n"
     ]
    }
   ],
   "source": [
    "a = [i**2 for i in range(1,101)]\n",
    "print(a)"
   ]
  },
  {
   "cell_type": "markdown",
   "metadata": {},
   "source": [
    "### 문제2\n",
    "\n",
    "List Comprehension을 사용하여 모든 변의 길이가 30 이하인 직각삼각형이 나올 수 있는 경우를 모두 구하여라 ([(3,4,5), (5,12,13), ... , (20,21,29)]가 나와야 함)"
   ]
  },
  {
   "cell_type": "code",
   "execution_count": 128,
   "metadata": {},
   "outputs": [
    {
     "name": "stdout",
     "output_type": "stream",
     "text": [
      "[[3, 4, 5], [5, 12, 13], [6, 8, 10], [7, 24, 25], [8, 15, 17], [9, 12, 15], [10, 24, 26], [12, 16, 20], [15, 20, 25], [18, 24, 30], [20, 21, 29]]\n"
     ]
    }
   ],
   "source": [
    "a = [[i, j, k] for i in range(1,31) for j in range(i,31) for k in range(j,31) if i**2 + j**2 == k**2]\n",
    "print(a)"
   ]
  },
  {
   "cell_type": "markdown",
   "metadata": {},
   "source": [
    "### 문제3\n",
    "\n",
    "seasons = ['Spring', 'Summer', 'Fall', 'Winter']                                                          위와 같이 4계절과 관련한 문자열을 'seasons' 라는 list에 넣었다. enumerate을 사용하여 아래와 같이 리스트로 형변환을 하여라   [(1, 'Spring'), (2, 'Summer'), (3, 'Fall'), (4, 'Winter')]"
   ]
  },
  {
   "cell_type": "code",
   "execution_count": 52,
   "metadata": {},
   "outputs": [
    {
     "data": {
      "text/plain": [
       "[(1, 'Spring'), (2, 'Summer'), (3, 'Fall'), (4, 'Winter')]"
      ]
     },
     "execution_count": 52,
     "metadata": {},
     "output_type": "execute_result"
    }
   ],
   "source": [
    "seasons = ['Spring', 'Summer', 'Fall', 'Winter'] \n",
    "\n",
    "list(enumerate(seasons, start=1))"
   ]
  },
  {
   "cell_type": "markdown",
   "metadata": {},
   "source": [
    "## 50~51 OOP and Class"
   ]
  },
  {
   "cell_type": "markdown",
   "metadata": {},
   "source": [
    "## 문제1\n",
    "\n",
    "TV를 클래스로 정의해보자. TV클래스는 다음과 같은 변수와 함수들을 가진다. 클래스를 선언한 후 LG의 55인치 OLED TV 인스턴스를 생성하고나서 TV의 기능 상 문제가 없는지 테스트 해보아라.\n",
    "\n",
    "```python\n",
    "변수 :\n",
    "제조사(manufacturer)\n",
    "화면크기(size)\n",
    "패널(panel)\n",
    "채널(channel)\n",
    "볼륨(volume)\n",
    "전원상태(on)\n",
    "\n",
    "함수 :\n",
    "turnOn() - 전원켜기\n",
    "turnOff() - 전원끄기\n",
    "setChannel(channel) - 채널변경\n",
    "setVolume(volune) - 볼륨변경\n",
    "```"
   ]
  },
  {
   "cell_type": "code",
   "execution_count": 17,
   "metadata": {},
   "outputs": [
    {
     "name": "stdout",
     "output_type": "stream",
     "text": [
      "TV 정보 : 제조사(LG), 사이즈(55인치), 패널(OLED)\n",
      "\n",
      "TV를 킵니다\n",
      "\n",
      "채널을 11로 변경합니다\n",
      "11\n",
      "볼륨을 0로 변경합니다\n",
      "0\n",
      "TV를 끕니다\n",
      "off\n"
     ]
    }
   ],
   "source": [
    "\n",
    "class TV:\n",
    "    def __init__(self, manufacturer, size, panel):\n",
    "        self.manufacturer = manufacturer\n",
    "        self.size = size\n",
    "        self.panel = panel\n",
    "        self.channel = 1\n",
    "        self.volume = 10\n",
    "        self.on = \"off\"\n",
    "\n",
    "    def __str__(self):\n",
    "        return \"TV 정보 : 제조사(%s), 사이즈(%d인치), 패널(%s)\\n\" % (self.manufacturer, self.size, self.panel) \n",
    "\n",
    "    def turnOn(self) :\n",
    "        if self.on == \"on\":\n",
    "            print(\"이미 켜져있습니다\\n\")\n",
    "        else :\n",
    "            print(\"TV를 킵니다\\n\")\n",
    "            self.on = \"on\"\n",
    "\n",
    "    def turnOff(self) :\n",
    "        if self.on == \"off\":\n",
    "            print(\"이미 꺼져있습니다\\n\")\n",
    "        else :\n",
    "            print(\"TV를 끕니다\")\n",
    "            self.on = \"off\"\n",
    "\n",
    "    def setChannel(self, channel) :\n",
    "        print(\"채널을 %d로 변경합니다\" % channel)\n",
    "        self.channel = channel\n",
    "\n",
    "    def setVolume(self, volume) :\n",
    "        print(\"볼륨을 %d로 변경합니다\" % volume)\n",
    "        self.volume = volume\n",
    "\n",
    "lg = TV(\"LG\", 55, \"OLED\")\n",
    "print(lg)\n",
    "\n",
    "lg.turnOn()\n",
    "print(lg.on)\n",
    "\n",
    "lg.setChannel(11)\n",
    "print(lg.channel)\n",
    "\n",
    "lg.setVolume(0)\n",
    "print(lg.volume)\n",
    "\n",
    "lg.turnOff()\n",
    "print(lg.on)"
   ]
  },
  {
   "cell_type": "markdown",
   "metadata": {},
   "source": [
    "## 52~53 OOP Characteristics "
   ]
  },
  {
   "cell_type": "markdown",
   "metadata": {},
   "source": [
    "## 문제1 (다형성)\n",
    "\n",
    "Person를 부모 클래스로 Male, Female 자식 클래스를 정의하는 코드를 작성하십시오.\n",
    "\n",
    "\"Unknown\"을 반환하는 Person 클래스의 getGender 메서드를 Male 클래스와 Female 클래스는\n",
    "\n",
    "\"Male\", \"Female\" 값을 반환하는 메서드로 오버라이딩합니다."
   ]
  },
  {
   "cell_type": "code",
   "execution_count": 127,
   "metadata": {},
   "outputs": [
    {
     "name": "stdout",
     "output_type": "stream",
     "text": [
      "Male\n",
      "Female\n"
     ]
    }
   ],
   "source": [
    "class Person:\n",
    "    def __init__(self, name):\n",
    "        self.name = name\n",
    "    \n",
    "    def getGender(self):\n",
    "        return \"unknown\"\n",
    "        \n",
    "class male(Person):\n",
    "    def __init__(self, name):\n",
    "        self.name = name\n",
    "\n",
    "    def getGender(self):\n",
    "        return \"Male\"\n",
    "    \n",
    "class female(Person):\n",
    "    def __init__(self, name):\n",
    "        self.name = name\n",
    "    \n",
    "    def getGender(self):\n",
    "        return \"Female\"\n",
    "    \n",
    "bob = male(\"Bob\")\n",
    "alice = female(\"Alice\")\n",
    "\n",
    "print(bob.getGender())\n",
    "print(alice.getGender())\n"
   ]
  }
 ],
 "metadata": {
  "kernelspec": {
   "display_name": "Python 3",
   "language": "python",
   "name": "python3"
  },
  "language_info": {
   "codemirror_mode": {
    "name": "ipython",
    "version": 3
   },
   "file_extension": ".py",
   "mimetype": "text/x-python",
   "name": "python",
   "nbconvert_exporter": "python",
   "pygments_lexer": "ipython3",
   "version": "3.7.6"
  }
 },
 "nbformat": 4,
 "nbformat_minor": 5
}
