{
 "cells": [
  {
   "cell_type": "code",
   "execution_count": 1,
   "metadata": {},
   "outputs": [],
   "source": [
    "import numpy as np\n",
    "import matplotlib.pyplot as plt\n",
    "from sklearn.model_selection import train_test_split"
   ]
  },
  {
   "cell_type": "code",
   "execution_count": 13,
   "metadata": {},
   "outputs": [
    {
     "name": "stdout",
     "output_type": "stream",
     "text": [
      "[[ 1.76405235  0.40015721  0.97873798]\n",
      " [ 2.2408932   1.86755799 -0.97727788]\n",
      " [ 0.95008842 -0.15135721 -0.10321885]\n",
      " ...\n",
      " [-1.30322008  0.46675065  0.16110632]\n",
      " [ 0.32003193  2.07917666 -0.90746598]\n",
      " [-0.19240421 -1.21251574 -0.08059852]]\n"
     ]
    }
   ],
   "source": [
    "rnd = np.random.RandomState(0) # 랜덤 데이터\n",
    "X_org = rnd.normal(size=(1000,3)) # 정규분포 3개 샘플 1000개 -> 가로\n",
    "w = rnd.normal(size = 3) # 3개 샘플 -> 세로 \n",
    "\n",
    "X = rnd.poisson(10 * np.exp(X_org)) # 포아송 분포 곱하기\n",
    "y = np.dot(X_org, w) # x*y"
   ]
  },
  {
   "cell_type": "code",
   "execution_count": 14,
   "metadata": {},
   "outputs": [
    {
     "data": {
      "text/plain": [
       "Text(0.5, 0, 'Value')"
      ]
     },
     "execution_count": 14,
     "metadata": {},
     "output_type": "execute_result"
    },
    {
     "data": {
      "image/png": "[encoded data removed]",
      "text/plain": [
       "<Figure size 432x288 with 1 Axes>"
      ]
     },
     "metadata": {
      "needs_background": "light"
     },
     "output_type": "display_data"
    }
   ],
   "source": [
    "bins = np.bincount(X[:,0]) #binning\n",
    "plt.bar(range(len(bins)), bins, color='gray')\n",
    "plt.ylabel(\"Number of apperances\")\n",
    "plt.xlabel(\"Value\")"
   ]
  },
  {
   "cell_type": "code",
   "execution_count": 15,
   "metadata": {},
   "outputs": [
    {
     "name": "stdout",
     "output_type": "stream",
     "text": [
      "Test score: 0.622\n"
     ]
    }
   ],
   "source": [
    "from sklearn.linear_model import Ridge\n",
    "X_train, X_test, y_train, y_test = train_test_split(X, y, random_state = 0)\n",
    "score = Ridge().fit(X_train, y_train).score(X_test, y_test) # ridge fitting\n",
    "print(\"Test score: {:.3f}\".format(score))\n",
    "# return = rsqure 1에 가까울수록 선형"
   ]
  },
  {
   "cell_type": "code",
   "execution_count": 16,
   "metadata": {},
   "outputs": [],
   "source": [
    "# 로그화\n",
    "X_train_log = np.log(X_train + 1) #통상 1을 더해줌\n",
    "X_test_log = np.log(X_test + 1)"
   ]
  },
  {
   "cell_type": "code",
   "execution_count": 17,
   "metadata": {},
   "outputs": [
    {
     "data": {
      "text/plain": [
       "Text(0.5, 0, 'Value')"
      ]
     },
     "execution_count": 17,
     "metadata": {},
     "output_type": "execute_result"
    },
    {
     "data": {
      "image/png": "[encoded data removed]",
      "text/plain": [
       "<Figure size 432x288 with 1 Axes>"
      ]
     },
     "metadata": {
      "needs_background": "light"
     },
     "output_type": "display_data"
    }
   ],
   "source": [
    "plt.hist(X_train_log[:,0], bins = 25, color = 'gray')\n",
    "plt.ylabel(\"Number of apperances\")\n",
    "plt.xlabel(\"Value\")"
   ]
  },
  {
   "cell_type": "code",
   "execution_count": 20,
   "metadata": {},
   "outputs": [
    {
     "name": "stdout",
     "output_type": "stream",
     "text": [
      "Test score: 0.875\n"
     ]
    }
   ],
   "source": [
    "score = Ridge().fit(X_train_log, y_train).score(X_test_log, y_test) # ridge fitting\n",
    "print(\"Test score: {:.3f}\".format(score))\n",
    "# return = rsqure 1에 가까울수록 선형\n",
    "# 선형에 가까워짐을 확인 가능"
   ]
  },
  {
   "cell_type": "code",
   "execution_count": null,
   "metadata": {},
   "outputs": [],
   "source": []
  }
 ],
 "metadata": {
  "kernelspec": {
   "display_name": "Find-A",
   "language": "python",
   "name": "finda"
  },
  "language_info": {
   "codemirror_mode": {
    "name": "ipython",
    "version": 3
   },
   "file_extension": ".py",
   "mimetype": "text/x-python",
   "name": "python",
   "nbconvert_exporter": "python",
   "pygments_lexer": "ipython3",
   "version": "3.9.1"
  }
 },
 "nbformat": 4,
 "nbformat_minor": 4
}
