{
 "cells": [
  {
   "cell_type": "code",
   "execution_count": 14,
   "metadata": {},
   "outputs": [],
   "source": [
    "import house_price_preprocessor\n",
    "import warnings\n",
    "warnings.filterwarnings(action='ignore')"
   ]
  },
  {
   "cell_type": "code",
   "execution_count": 34,
   "metadata": {},
   "outputs": [],
   "source": [
    "train_dataset_dir = \"./house_price/train.csv\"\n",
    "test_dataset_dir = \"./house_price/test.csv\""
   ]
  },
  {
   "cell_type": "code",
   "execution_count": 35,
   "metadata": {},
   "outputs": [],
   "source": [
    "train_X, test_X, train_y, test_id_idx = house_price_preprocessor.get_train_test_split_dataset(train_dataset_dir, test_dataset_dir)"
   ]
  },
  {
   "cell_type": "code",
   "execution_count": 36,
   "metadata": {},
   "outputs": [
    {
     "data": {
      "text/plain": [
       "((1460, 67), (1459, 67), (1460,), (1459,))"
      ]
     },
     "execution_count": 36,
     "metadata": {},
     "output_type": "execute_result"
    }
   ],
   "source": [
    "# 데이터 분리\n",
    "train_X.shape, test_X.shape, train_y.shape, test_id_idx.shape"
   ]
  },
  {
   "cell_type": "code",
   "execution_count": 37,
   "metadata": {},
   "outputs": [],
   "source": [
    "from sklearn.ensemble import GradientBoostingRegressor\n",
    "from sklearn.linear_model import LinearRegression # 비교용 선형회귀\n",
    "\n",
    "#from sklearn.cross_validation import cross_val_score \n",
    "from sklearn.model_selection import cross_val_score \n",
    "\n",
    "\n",
    "\n",
    "import numpy as np"
   ]
  },
  {
   "cell_type": "code",
   "execution_count": 38,
   "metadata": {},
   "outputs": [],
   "source": [
    "gbr = GradientBoostingRegressor(n_estimators=2000, subsample=0.5, max_depth=2, learning_rate=0.55)\n",
    "lr = LinearRegression()"
   ]
  },
  {
   "cell_type": "code",
   "execution_count": 39,
   "metadata": {},
   "outputs": [
    {
     "data": {
      "text/plain": [
       "-1278209231.3706405"
      ]
     },
     "execution_count": 39,
     "metadata": {},
     "output_type": "execute_result"
    }
   ],
   "source": [
    "# negative 이므로 클 수록 좋음, 회귀보다 큰 성능 차이를 보임\n",
    "np.mean(cross_val_score(gbr, train_X, train_y, scoring=\"neg_mean_squared_error\" , cv=5))"
   ]
  },
  {
   "cell_type": "code",
   "execution_count": 40,
   "metadata": {},
   "outputs": [
    {
     "data": {
      "text/plain": [
       "-3.145851450924005e+32"
      ]
     },
     "execution_count": 40,
     "metadata": {},
     "output_type": "execute_result"
    }
   ],
   "source": [
    "np.mean(cross_val_score(lr, train_X, train_y, scoring=\"neg_mean_squared_error\" , cv=5))"
   ]
  },
  {
   "cell_type": "code",
   "execution_count": 41,
   "metadata": {},
   "outputs": [],
   "source": [
    "# 평균 제곱근 오차(Root Mean Square Error)\n",
    "# 사이킷런에서는 클수록 좋다고 판단(MSE에 음수를 취한 Negative Mean Square Error : 오차가 올라가면 나쁘다->점수가 올라가면 좋다)\n",
    "# 그러나 rmse는 작을수록 좋은 것이라고 판단\n",
    "# 그러므로 rmse를 지원하지 않아 따로 정의\n",
    "\n",
    "def rmse(predictions, targets):\n",
    "    return np.sqrt(((predictions - targets) ** 2).mean())"
   ]
  },
  {
   "cell_type": "code",
   "execution_count": 42,
   "metadata": {},
   "outputs": [],
   "source": [
    "from sklearn.model_selection import train_test_split"
   ]
  },
  {
   "cell_type": "code",
   "execution_count": 43,
   "metadata": {},
   "outputs": [
    {
     "data": {
      "text/plain": [
       "LinearRegression()"
      ]
     },
     "execution_count": 43,
     "metadata": {},
     "output_type": "execute_result"
    }
   ],
   "source": [
    "# 튜닝\n",
    "gbr = GradientBoostingRegressor(\n",
    "        max_depth=2, n_estimators=5000, subsample=0.5,learning_rate=0.05)\n",
    "X_train, X_val, y_train, y_val = train_test_split(train_X, train_y, test_size=0.3)\n",
    "\n",
    "gbr.fit(X_train, y_train)\n",
    "\n",
    "# staged_predict : 총 5000개 중에서 하나 생성 시 마다 predict\n",
    "# x_train과 x_val이 벌어지는 순간 멈춰야하므로 staged_predict를 사용해 early stopping 및 적절한 estimator를 찾을 수 있음\n",
    "errors_val = [rmse(y_val, y_pred) for y_pred in gbr.staged_predict(X_val)]\n",
    "errors_train = [rmse(y_train, y_pred) for y_pred in gbr.staged_predict(X_train)]\n",
    "x_axis = list(range(len(errors_val)))\n",
    "\n",
    "lr = LinearRegression() # 비교대상\n",
    "lr.fit(X_train, y_train)"
   ]
  },
  {
   "cell_type": "code",
   "execution_count": 44,
   "metadata": {},
   "outputs": [
    {
     "data": {
      "image/png": "[encoded data removed]",
      "text/plain": [
       "<Figure size 432x288 with 1 Axes>"
      ]
     },
     "metadata": {
      "needs_background": "light"
     },
     "output_type": "display_data"
    },
    {
     "name": "stdout",
     "output_type": "stream",
     "text": [
      "802 24924.909762810843\n",
      "30951.585524520953\n"
     ]
    }
   ],
   "source": [
    "import matplotlib.pyplot as plt\n",
    "import numpy as np\n",
    "\n",
    "\n",
    "ax = plt.subplot(111)\n",
    "plt.plot(x_axis, errors_val, label=\"validation_score\")\n",
    "plt.plot(x_axis, errors_train, label=\"train_score\")\n",
    "\n",
    "leg = plt.legend(loc='best', ncol=2, mode=\"expand\", shadow=True, fancybox=True)\n",
    "leg.get_frame().set_alpha(0.5)\n",
    "\n",
    "\n",
    "plt.show()\n",
    "bst_n_estimators = np.argmin(errors_val) # errors_val의 최솟값\n",
    "print(bst_n_estimators, errors_val[bst_n_estimators]) # 해당 인덱스와 값 출력\n",
    "print(rmse(y_val, lr.predict(X_val))) # 선형회귀의 값"
   ]
  },
  {
   "cell_type": "code",
   "execution_count": 45,
   "metadata": {},
   "outputs": [
    {
     "data": {
      "text/plain": [
       "GradientBoostingRegressor(learning_rate=0.05, max_depth=2, n_estimators=802,\n",
       "                          subsample=0.5)"
      ]
     },
     "execution_count": 45,
     "metadata": {},
     "output_type": "execute_result"
    }
   ],
   "source": [
    "gbr_best = GradientBoostingRegressor(max_depth=2, subsample=0.5,learning_rate=0.05, n_estimators=bst_n_estimators)\n",
    "gbr_best.fit(train_X, train_y)"
   ]
  },
  {
   "cell_type": "code",
   "execution_count": 46,
   "metadata": {},
   "outputs": [],
   "source": [
    "id_value=test_id_idx #제출용 csv에 id를 명시해야하므로 \n",
    "sales_price = gbr_best.predict(test_X) "
   ]
  },
  {
   "cell_type": "code",
   "execution_count": 47,
   "metadata": {},
   "outputs": [
    {
     "data": {
      "text/plain": [
       "array([[  1461.        , 126398.28028954],\n",
       "       [  1462.        , 154185.08297814],\n",
       "       [  1463.        , 195583.53470102],\n",
       "       ...,\n",
       "       [  2917.        , 180301.98672867],\n",
       "       [  2918.        , 128840.00670171],\n",
       "       [  2919.        , 235799.72422842]])"
      ]
     },
     "execution_count": 47,
     "metadata": {},
     "output_type": "execute_result"
    }
   ],
   "source": [
    "result = np.vstack([id_value, sales_price]).T\n",
    "\n",
    "result"
   ]
  },
  {
   "cell_type": "code",
   "execution_count": 48,
   "metadata": {},
   "outputs": [],
   "source": [
    "# dataframe 변환\n",
    "from pandas import DataFrame\n",
    "\n",
    "DataFrame(result, dtype=int, columns=[\"Id\", \"SalePrice\"]).set_index(\"Id\").to_csv(\"house_price_result.csv\")\n",
    "# DataFrame(result, columns=[\"Id\", \"SalePrice\"]).set_index(\"Id\").to_csv(\"house_price_result.csv\") -> 오류"
   ]
  },
  {
   "cell_type": "code",
   "execution_count": 50,
   "metadata": {},
   "outputs": [],
   "source": [
    "# 가공 후 csv 출력\n",
    "submission_df =DataFrame(result, columns=[\"Id\", \"SalePrice\"]).set_index(\"Id\")\n",
    "submission_df.index = submission_df.index.astype(int)\n",
    "submission_df.to_csv(\"house_price_result.csv\")"
   ]
  },
  {
   "cell_type": "code",
   "execution_count": 52,
   "metadata": {},
   "outputs": [
    {
     "name": "stdout",
     "output_type": "stream",
     "text": [
      "zsh:1: command not found: kaggle\r\n"
     ]
    }
   ],
   "source": [
    "!kaggle competitions submit -c house-prices-advanced-regression-techniques -f house_price_result.csv -m \"My submission\""
   ]
  },
  {
   "cell_type": "code",
   "execution_count": 55,
   "metadata": {},
   "outputs": [
    {
     "data": {
      "image/png": "[encoded data removed]",
      "text/plain": [
       "<IPython.core.display.Image object>"
      ]
     },
     "execution_count": 55,
     "metadata": {},
     "output_type": "execute_result"
    }
   ],
   "source": [
    "from IPython.display import Image\n",
    "Image(\"/Users/jijoonghong/Downloads/ch13/first_commit.png\")"
   ]
  },
  {
   "cell_type": "code",
   "execution_count": 60,
   "metadata": {},
   "outputs": [
    {
     "name": "stdout",
     "output_type": "stream",
     "text": [
      "Fitting 5 folds for each of 648 candidates, totalling 3240 fits\n",
      "GradientBoostingRegressor(learning_rate=0.05, max_depth=4, max_features=0.3,\n",
      "                          min_samples_leaf=3, n_estimators=1380, subsample=0.5,\n",
      "                          warm_start=True)\n"
     ]
    }
   ],
   "source": [
    "from sklearn.model_selection import ShuffleSplit\n",
    "from sklearn.model_selection import GridSearchCV \n",
    "\n",
    "param_grid={'n_estimators':[1000,1200,1300,1350,1360,1370,1380,1390,1400], \n",
    "                'learning_rate': [0.1, 0.05], #0.02, 0.01], \n",
    "                'subsample' : [0.4,0.5,0.55],#,0.6,0.7,0.8],\n",
    "                'max_depth':[2, 4, 6],#,8], \n",
    "                'min_samples_leaf':[3, 5],#,9,15], \n",
    "                'max_features':[1.0, 0.3]#, 0.1] \n",
    "           } \n",
    "n_jobs=7 \n",
    "\n",
    "estimator = GradientBoostingRegressor(warm_start=True)\n",
    "cv = ShuffleSplit(n_splits=5, train_size = X_train.shape[0], test_size=0.2) #변경\n",
    "classifier = GridSearchCV(estimator=estimator, cv=cv, param_grid=param_grid, n_jobs=n_jobs, verbose=1)\n",
    "\n",
    "classifier.fit(train_X, train_y)\n",
    "print (classifier.best_estimator_)  "
   ]
  },
  {
   "cell_type": "code",
   "execution_count": 61,
   "metadata": {},
   "outputs": [
    {
     "name": "stdout",
     "output_type": "stream",
     "text": [
      "3702.6504514318467\n"
     ]
    }
   ],
   "source": [
    "print(rmse(y_val, classifier.best_estimator_.predict(X_val)))\n",
    "#상당한 개선이 이뤄짐"
   ]
  },
  {
   "cell_type": "code",
   "execution_count": 62,
   "metadata": {},
   "outputs": [
    {
     "data": {
      "text/plain": [
       "GradientBoostingRegressor(learning_rate=0.05, max_depth=4, max_features=0.3,\n",
       "                          min_samples_leaf=3, n_estimators=1380, subsample=0.5,\n",
       "                          warm_start=True)"
      ]
     },
     "execution_count": 62,
     "metadata": {},
     "output_type": "execute_result"
    }
   ],
   "source": [
    "final_estimator = classifier.best_estimator_\n",
    "final_estimator.fit(train_X, train_y)"
   ]
  },
  {
   "cell_type": "code",
   "execution_count": 65,
   "metadata": {},
   "outputs": [],
   "source": [
    "id_value=test_id_idx\n",
    "sales_price = final_estimator.predict(test_X)\n",
    "result = np.vstack([id_value, sales_price]).T\n",
    "submission_df =DataFrame(result, columns=[\"Id\", \"SalePrice\"]).set_index(\"Id\")\n",
    "submission_df.index = submission_df.index.astype(int)\n",
    "submission_df.to_csv(\"house_price_result_grid_search.csv\")\n"
   ]
  },
  {
   "cell_type": "code",
   "execution_count": 66,
   "metadata": {},
   "outputs": [
    {
     "name": "stdout",
     "output_type": "stream",
     "text": [
      "zsh:1: command not found: kaggle\r\n"
     ]
    }
   ],
   "source": [
    "!kaggle competitions submit -c house-prices-advanced-regression-techniques -f house_price_result_grid_search.csv -m \"Message\""
   ]
  },
  {
   "cell_type": "code",
   "execution_count": null,
   "metadata": {},
   "outputs": [],
   "source": []
  }
 ],
 "metadata": {
  "kernelspec": {
   "display_name": "Find-A",
   "language": "python",
   "name": "finda"
  },
  "language_info": {
   "codemirror_mode": {
    "name": "ipython",
    "version": 3
   },
   "file_extension": ".py",
   "mimetype": "text/x-python",
   "name": "python",
   "nbconvert_exporter": "python",
   "pygments_lexer": "ipython3",
   "version": "3.9.1"
  }
 },
 "nbformat": 4,
 "nbformat_minor": 2
}
