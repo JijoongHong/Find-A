{
 "cells": [
  {
   "cell_type": "code",
   "execution_count": 3,
   "metadata": {},
   "outputs": [],
   "source": [
    "import numpy as np\n",
    "import xgboost as xgb"
   ]
  },
  {
   "cell_type": "code",
   "execution_count": 4,
   "metadata": {},
   "outputs": [],
   "source": [
    "X = np.load(\"./tatanic_X_train.npy\")\n",
    "y = np.load(\"./tatanic_y_train.npy\")"
   ]
  },
  {
   "cell_type": "code",
   "execution_count": 5,
   "metadata": {},
   "outputs": [],
   "source": [
    "from sklearn.model_selection import train_test_split"
   ]
  },
  {
   "cell_type": "code",
   "execution_count": 6,
   "metadata": {},
   "outputs": [],
   "source": [
    "X_train, X_test, y_train, y_test = train_test_split(X, y, test_size =0.2)"
   ]
  },
  {
   "cell_type": "code",
   "execution_count": 8,
   "metadata": {},
   "outputs": [],
   "source": [
    "# DMatrix = 고유의 타입\n",
    "dtrain = xgb.DMatrix(X_train, label=y_train)\n",
    "dtest = xgb.DMatrix(X_test, label=y_test)"
   ]
  },
  {
   "cell_type": "code",
   "execution_count": 38,
   "metadata": {},
   "outputs": [],
   "source": [
    "param = {'max_depth': 2, 'eta': 0.5, 'verbosity': 0, 'objective': 'binary:logistic'} \n",
    "\n",
    "# max_depth : 트리의 높이 한도(default = 6)\n",
    "# eta(0~1) : 학습단계별 가중치, 낮을수록 다음 단계의 결과물을 적게 반영하여 보수적임(default = 1)\n",
    "# silent(verbosity로 변경) : 출력 메시지 레벨[0(silent), 1(warning), 2(info), 3(debug)] (default = 1)\n",
    "# objective : cost_function\n",
    "\n",
    "param['nthread'] = 7 # Number of parallel threads used to run XGBoost\n",
    "param['eval_metric'] = 'auc' # 평가지표 : Area under the ROC curve\n",
    "\n",
    "evallist = [(dtest, 'eval'), (dtrain, 'train')]\n",
    "plst = list(param.items()) #dict_items는 copy attribute가 없으므로 list로 캐스팅"
   ]
  },
  {
   "cell_type": "code",
   "execution_count": 39,
   "metadata": {},
   "outputs": [
    {
     "name": "stdout",
     "output_type": "stream",
     "text": [
      "[0]\teval-auc:0.84314\ttrain-auc:0.84321\n",
      "[1]\teval-auc:0.84043\ttrain-auc:0.85255\n",
      "[2]\teval-auc:0.84275\ttrain-auc:0.85354\n",
      "[3]\teval-auc:0.84791\ttrain-auc:0.85944\n",
      "[4]\teval-auc:0.84675\ttrain-auc:0.87473\n",
      "[5]\teval-auc:0.85359\ttrain-auc:0.88153\n",
      "[6]\teval-auc:0.85597\ttrain-auc:0.88724\n",
      "[7]\teval-auc:0.85307\ttrain-auc:0.89145\n",
      "[8]\teval-auc:0.85397\ttrain-auc:0.89349\n",
      "[9]\teval-auc:0.85997\ttrain-auc:0.89739\n",
      "[10]\teval-auc:0.86571\ttrain-auc:0.90024\n",
      "[11]\teval-auc:0.86636\ttrain-auc:0.90137\n",
      "[12]\teval-auc:0.86739\ttrain-auc:0.90304\n",
      "[13]\teval-auc:0.86384\ttrain-auc:0.90426\n",
      "[14]\teval-auc:0.86507\ttrain-auc:0.90484\n",
      "[15]\teval-auc:0.86571\ttrain-auc:0.90681\n",
      "[16]\teval-auc:0.85926\ttrain-auc:0.90965\n",
      "[17]\teval-auc:0.85791\ttrain-auc:0.91079\n",
      "[18]\teval-auc:0.85849\ttrain-auc:0.91457\n",
      "[19]\teval-auc:0.86068\ttrain-auc:0.91675\n",
      "[20]\teval-auc:0.85810\ttrain-auc:0.91746\n",
      "[21]\teval-auc:0.85668\ttrain-auc:0.91902\n",
      "[22]\teval-auc:0.85565\ttrain-auc:0.91975\n",
      "[23]\teval-auc:0.85823\ttrain-auc:0.92212\n",
      "[24]\teval-auc:0.85694\ttrain-auc:0.92289\n",
      "[25]\teval-auc:0.85436\ttrain-auc:0.92364\n",
      "[26]\teval-auc:0.85539\ttrain-auc:0.92487\n",
      "[27]\teval-auc:0.85552\ttrain-auc:0.92514\n",
      "[28]\teval-auc:0.85578\ttrain-auc:0.92568\n",
      "[29]\teval-auc:0.85436\ttrain-auc:0.92661\n",
      "[30]\teval-auc:0.85372\ttrain-auc:0.92736\n",
      "[31]\teval-auc:0.85410\ttrain-auc:0.92761\n",
      "[32]\teval-auc:0.85281\ttrain-auc:0.92884\n",
      "[33]\teval-auc:0.85565\ttrain-auc:0.92887\n",
      "[34]\teval-auc:0.86016\ttrain-auc:0.92905\n",
      "[35]\teval-auc:0.85939\ttrain-auc:0.92946\n",
      "[36]\teval-auc:0.85926\ttrain-auc:0.93024\n",
      "[37]\teval-auc:0.85823\ttrain-auc:0.93255\n",
      "[38]\teval-auc:0.85900\ttrain-auc:0.93367\n",
      "[39]\teval-auc:0.85920\ttrain-auc:0.93420\n",
      "[40]\teval-auc:0.85946\ttrain-auc:0.93375\n",
      "[41]\teval-auc:0.86268\ttrain-auc:0.93495\n",
      "[42]\teval-auc:0.86281\ttrain-auc:0.93538\n",
      "[43]\teval-auc:0.86436\ttrain-auc:0.93678\n",
      "[44]\teval-auc:0.86462\ttrain-auc:0.93639\n",
      "[45]\teval-auc:0.86681\ttrain-auc:0.93695\n",
      "[46]\teval-auc:0.86474\ttrain-auc:0.93808\n",
      "[47]\teval-auc:0.86384\ttrain-auc:0.93776\n",
      "[48]\teval-auc:0.86294\ttrain-auc:0.93866\n",
      "[49]\teval-auc:0.86307\ttrain-auc:0.93899\n"
     ]
    }
   ],
   "source": [
    "num_round = 50\n",
    "bst = xgb.train(plst, dtrain, num_round, evallist) #parameters, train data, 횟수, 평가지표"
   ]
  },
  {
   "cell_type": "code",
   "execution_count": 29,
   "metadata": {},
   "outputs": [
    {
     "data": {
      "text/plain": [
       "50"
      ]
     },
     "execution_count": 29,
     "metadata": {},
     "output_type": "execute_result"
    }
   ],
   "source": [
    "bst.best_ntree_limit # 최적의 값"
   ]
  },
  {
   "cell_type": "code",
   "execution_count": 30,
   "metadata": {},
   "outputs": [],
   "source": [
    "ypred = bst.predict(dtest, ntree_limit=bst.best_ntree_limit) #가장 좋은 50번째 값으로 예측"
   ]
  },
  {
   "cell_type": "code",
   "execution_count": 31,
   "metadata": {},
   "outputs": [
    {
     "data": {
      "text/plain": [
       "0.5318352059925093"
      ]
     },
     "execution_count": 31,
     "metadata": {},
     "output_type": "execute_result"
    }
   ],
   "source": [
    "(sum((ypred>0.5) == y_test)) / 267.0"
   ]
  }
 ],
 "metadata": {
  "kernelspec": {
   "display_name": "Find-A",
   "language": "python",
   "name": "finda"
  },
  "language_info": {
   "codemirror_mode": {
    "name": "ipython",
    "version": 3
   },
   "file_extension": ".py",
   "mimetype": "text/x-python",
   "name": "python",
   "nbconvert_exporter": "python",
   "pygments_lexer": "ipython3",
   "version": "3.9.1"
  }
 },
 "nbformat": 4,
 "nbformat_minor": 2
}
